{
 "cells": [
  {
   "cell_type": "code",
   "execution_count": 4,
   "id": "d45de5f1-b17e-410f-bdf3-cebe4aa8fd24",
   "metadata": {
    "scrolled": true
   },
   "outputs": [
    {
     "name": "stdout",
     "output_type": "stream",
     "text": [
      "              datetime  Vancouver  Portland  San Francisco  Seattle  \\\n",
      "0  2012-10-01 12:00:00        NaN       NaN            NaN      NaN   \n",
      "1  2012-10-01 13:00:00        NaN    1024.0         1009.0   1027.0   \n",
      "2  2012-10-01 14:00:00        NaN    1024.0         1009.0   1027.0   \n",
      "3  2012-10-01 15:00:00        NaN    1024.0         1009.0   1028.0   \n",
      "4  2012-10-01 16:00:00        NaN    1024.0         1009.0   1028.0   \n",
      "\n",
      "   Los Angeles  San Diego  Las Vegas  Phoenix  Albuquerque  ...  Philadelphia  \\\n",
      "0          NaN        NaN        NaN      NaN          NaN  ...           NaN   \n",
      "1       1013.0     1013.0     1018.0   1013.0       1024.0  ...        1014.0   \n",
      "2       1013.0     1013.0     1018.0   1013.0       1024.0  ...        1014.0   \n",
      "3       1013.0     1013.0     1018.0   1013.0       1024.0  ...        1014.0   \n",
      "4       1013.0     1013.0     1018.0   1013.0       1024.0  ...        1014.0   \n",
      "\n",
      "   New York  Montreal  Boston  Beersheba  Tel Aviv District   Eilat   Haifa  \\\n",
      "0       NaN       NaN     NaN        NaN                NaN  1011.0     NaN   \n",
      "1    1012.0    1001.0  1014.0      984.0             1012.0  1010.0  1013.0   \n",
      "2    1012.0     986.0  1014.0      984.0             1012.0  1010.0  1013.0   \n",
      "3    1012.0     945.0  1014.0      984.0             1012.0  1010.0  1013.0   \n",
      "4    1012.0     904.0  1014.0      984.0             1012.0  1010.0  1013.0   \n",
      "\n",
      "   Nahariyya  Jerusalem  \n",
      "0        NaN        NaN  \n",
      "1     1013.0      990.0  \n",
      "2     1013.0      990.0  \n",
      "3     1013.0      990.0  \n",
      "4     1013.0      990.0  \n",
      "\n",
      "[5 rows x 37 columns]\n"
     ]
    }
   ],
   "source": [
    "import pandas as pd\n",
    "\n",
    "# Example: Load wind speed data\n",
    "wind_df = pd.read_csv('data/dataset/pressure.csv')\n",
    "print(wind_df.head())\n",
    "\n"
   ]
  },
  {
   "cell_type": "code",
   "execution_count": 2,
   "id": "f81af8ed-8827-45e6-8a9c-13413a759b65",
   "metadata": {},
   "outputs": [
    {
     "name": "stdout",
     "output_type": "stream",
     "text": [
      "['city_attributes.csv', 'humidity.csv', 'pressure.csv', 'temperature.csv', 'weather_description.csv', 'wind_direction.csv', 'wind_speed.csv']\n"
     ]
    }
   ],
   "source": [
    "import os\n",
    "print(os.listdir('data/dataset'))"
   ]
  },
  {
   "cell_type": "code",
   "execution_count": 5,
   "id": "5732e3eb-dc05-4164-914a-5617c40a6029",
   "metadata": {},
   "outputs": [
    {
     "name": "stdout",
     "output_type": "stream",
     "text": [
      "['Canada' 'United States' 'Israel']\n"
     ]
    }
   ],
   "source": [
    "\n",
    "\n",
    "city_df = pd.read_csv(\"data/dataset/city_attributes.csv\")\n",
    "print(city_df['Country'].unique())  # List all countries\n"
   ]
  },
  {
   "cell_type": "code",
   "execution_count": 12,
   "id": "449f12c4",
   "metadata": {},
   "outputs": [
    {
     "name": "stdout",
     "output_type": "stream",
     "text": [
      "               datetime  San Francisco\n",
      "1   2012-10-01 13:00:00            2.0\n",
      "2   2012-10-01 14:00:00            2.0\n",
      "3   2012-10-01 15:00:00            2.0\n",
      "4   2012-10-01 16:00:00            2.0\n",
      "5   2012-10-01 17:00:00            2.0\n",
      "..                  ...            ...\n",
      "96  2012-10-05 12:00:00            0.0\n",
      "97  2012-10-05 13:00:00            3.0\n",
      "98  2012-10-05 14:00:00            3.0\n",
      "99  2012-10-05 15:00:00            3.0\n",
      "100 2012-10-05 16:00:00            4.0\n",
      "\n",
      "[100 rows x 2 columns]\n"
     ]
    }
   ],
   "source": [
    "\n",
    "\n",
    "# Step 1: Load the wind speed dataset\n",
    "wind_df = pd.read_csv(\"data/dataset/wind_speed.csv\")\n",
    "\n",
    "# Step 2: Convert the first column to datetime\n",
    "wind_df['datetime'] = pd.to_datetime(wind_df.iloc[:, 0])\n",
    "\n",
    "# Step 3: Keep only 'datetime' and 'San Francisco' columns\n",
    "sf_df = wind_df[['datetime', 'San Francisco']].dropna()\n",
    "\n",
    "# Step 4: Select only the first 24 hours (first 24 rows)\n",
    "sf_24h = sf_df.head(100)\n",
    "\n",
    "# Step 5: Preview the data\n",
    "print(sf_24h)\n"
   ]
  },
  {
   "cell_type": "code",
   "execution_count": 11,
   "id": "e3e085e4",
   "metadata": {},
   "outputs": [
    {
     "name": "stdout",
     "output_type": "stream",
     "text": [
      "              datetime  humidity  pressure  temperature  wind_speed\n",
      "1  2012-10-01 13:00:00      88.0    1009.0   289.480000         2.0\n",
      "2  2012-10-01 14:00:00      87.0    1009.0   289.474993         2.0\n",
      "3  2012-10-01 15:00:00      86.0    1009.0   289.460618         2.0\n",
      "4  2012-10-01 16:00:00      85.0    1009.0   289.446243         2.0\n",
      "5  2012-10-01 17:00:00      84.0    1009.0   289.431869         2.0\n",
      "6  2012-10-01 18:00:00      83.0    1010.0   289.417494         2.0\n",
      "7  2012-10-01 19:00:00      82.0    1010.0   289.403119         2.0\n",
      "8  2012-10-01 20:00:00      81.0    1010.0   289.388745         1.0\n",
      "9  2012-10-01 21:00:00      80.0    1010.0   289.374370         1.0\n",
      "10 2012-10-01 22:00:00      79.0    1011.0   289.359995         1.0\n",
      "11 2012-10-01 23:00:00      78.0    1011.0   289.345621         1.0\n",
      "12 2012-10-02 00:00:00      77.0    1011.0   289.331246         1.0\n",
      "13 2012-10-02 01:00:00      76.0    1011.0   289.316871         1.0\n",
      "14 2012-10-02 02:00:00      75.0    1012.0   289.302496         1.0\n",
      "15 2012-10-02 03:00:00      74.0    1012.0   289.288122         1.0\n",
      "16 2012-10-02 04:00:00      73.0    1012.0   289.273747         1.0\n",
      "17 2012-10-02 05:00:00      72.0    1012.0   289.259372         0.0\n",
      "18 2012-10-02 06:00:00      71.0    1013.0   289.244998         0.0\n",
      "19 2012-10-02 07:00:00      70.0    1013.0   289.230623         0.0\n",
      "20 2012-10-02 08:00:00      69.0    1013.0   289.216248         0.0\n",
      "21 2012-10-02 09:00:00      68.0    1013.0   289.201874         0.0\n",
      "22 2012-10-02 10:00:00      67.0    1014.0   289.187499         0.0\n",
      "23 2012-10-02 11:00:00      66.0    1014.0   289.173124         0.0\n",
      "24 2012-10-02 12:00:00      65.0    1014.0   289.158749         0.0\n"
     ]
    }
   ],
   "source": [
    "\n",
    "\n",
    "# Load all CSVs\n",
    "humidity = pd.read_csv(\"data/dataset/humidity.csv\")\n",
    "pressure = pd.read_csv(\"data/dataset/pressure.csv\")\n",
    "temperature = pd.read_csv(\"data/dataset/temperature.csv\")\n",
    "weather = pd.read_csv(\"data/dataset/weather_description.csv\")\n",
    "#wind_dir = pd.read_csv(\"data/dataset/wind_direction.csv\")\n",
    "wind_speed = pd.read_csv(\"data/dataset/wind_speed.csv\")\n",
    "\n",
    "# Convert datetime column\n",
    "for df in [humidity, pressure, temperature, weather, wind_speed]:\n",
    "    df['datetime'] = pd.to_datetime(df.iloc[:, 0])\n",
    "\n",
    "# Merge on datetime and filter only San Francisco\n",
    "df = pd.DataFrame()\n",
    "df['datetime'] = humidity['datetime']\n",
    "df['humidity'] = humidity['San Francisco']\n",
    "df['pressure'] = pressure['San Francisco']\n",
    "df['temperature'] = temperature['San Francisco']\n",
    "\n",
    "df['wind_speed'] = wind_speed['San Francisco']  # 🎯 target\n",
    "\n",
    "# Drop rows with missing values\n",
    "df.dropna(inplace=True)\n",
    "\n",
    "# Select only first 24 hours\n",
    "sf_data = df.head(24)\n",
    "\n",
    "# Preview final dataset\n",
    "print(sf_data)\n"
   ]
  },
  {
   "cell_type": "code",
   "execution_count": 14,
   "id": "beb04da4",
   "metadata": {},
   "outputs": [
    {
     "name": "stdout",
     "output_type": "stream",
     "text": [
      "Rows: 45253\n"
     ]
    }
   ],
   "source": [
    "sf_data = wind_df[['datetime', 'San Francisco']]\n",
    "print(\"Rows:\", sf_data.shape[0])\n"
   ]
  },
  {
   "cell_type": "code",
   "execution_count": 1,
   "id": "fdba097a",
   "metadata": {},
   "outputs": [
    {
     "name": "stdout",
     "output_type": "stream",
     "text": [
      "sid\n"
     ]
    }
   ],
   "source": [
    "print(\"sid\")"
   ]
  }
 ],
 "metadata": {
  "kernelspec": {
   "display_name": ".venv (3.13.3)",
   "language": "python",
   "name": "python3"
  },
  "language_info": {
   "codemirror_mode": {
    "name": "ipython",
    "version": 3
   },
   "file_extension": ".py",
   "mimetype": "text/x-python",
   "name": "python",
   "nbconvert_exporter": "python",
   "pygments_lexer": "ipython3",
   "version": "3.13.3"
  }
 },
 "nbformat": 4,
 "nbformat_minor": 5
}
